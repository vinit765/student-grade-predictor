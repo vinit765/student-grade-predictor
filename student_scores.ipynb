{
 "cells": [
  {
   "cell_type": "code",
   "execution_count": 59,
   "metadata": {},
   "outputs": [
    {
     "name": "stdout",
     "output_type": "stream",
     "text": [
      "Index(['Student_ID', 'First_Name', 'Last_Name', 'Email', 'Gender', 'Age',\n",
      "       'Department', 'Attendance (%)', 'Midterm_Score', 'Final_Score',\n",
      "       'Assignments_Avg', 'Quizzes_Avg', 'Participation_Score',\n",
      "       'Projects_Score', 'Total_Score', 'Grade', 'Study_Hours_per_Week',\n",
      "       'Extracurricular_Activities', 'Internet_Access_at_Home',\n",
      "       'Parent_Education_Level', 'Family_Income_Level', 'Stress_Level (1-10)',\n",
      "       'Sleep_Hours_per_Night'],\n",
      "      dtype='object')\n"
     ]
    }
   ],
   "source": [
    "import pandas as pd\n",
    "import numpy as np\n",
    "from sklearn.model_selection import train_test_split\n",
    "from sklearn.preprocessing import StandardScaler, LabelEncoder\n",
    "from sklearn.ensemble import RandomForestClassifier\n",
    "import joblib\n",
    "\n",
    "# Load dataset\n",
    "df = pd.read_csv(\"Students_Grading_Dataset.csv\")\n",
    "\n",
    "# Check column names\n",
    "print(df.columns)\n",
    "\n",
    "# Select correct column names from the dataset\n",
    "features = [\"Attendance (%)\", \"Midterm_Score\", \"Final_Score\", \"Assignments_Avg\", \n",
    "            \"Study_Hours_per_Week\", \"Stress_Level (1-10)\", \"Sleep_Hours_per_Night\"]\n",
    "target = \"Grade\"  # Assuming the grade column exists\n",
    "\n",
    "# Check if columns exist in dataset\n",
    "for col in features + [target]:\n",
    "    if col not in df.columns:\n",
    "        print(f\"❌ ERROR: Column '{col}' not found in dataset!\")\n",
    "\n",
    "# Drop missing values (if any)\n",
    "df = df.dropna()\n",
    "\n",
    "# Convert grades (A, B, C, etc.) to numeric labels\n",
    "label_encoder = LabelEncoder()\n",
    "df[target] = label_encoder.fit_transform(df[target])\n",
    "\n",
    "# Save the label encoder for later use in Flask API\n",
    "joblib.dump(label_encoder, \"label_encoder.pkl\")\n",
    "\n",
    "# Extract input (X) and output (y)\n",
    "X = df[features]\n",
    "y = df[target]\n",
    "\n",
    "# Normalize input features for better learning\n",
    "scaler = StandardScaler()\n",
    "X_scaled = scaler.fit_transform(X)\n",
    "\n",
    "# Save the scaler for later use\n",
    "joblib.dump(scaler, \"scaler.pkl\")\n",
    "\n",
    "# Split data into training and testing sets\n",
    "X_train, X_test, y_train, y_test = train_test_split(X_scaled, y, test_size=0.2, random_state=42)\n"
   ]
  },
  {
   "cell_type": "code",
   "execution_count": 61,
   "metadata": {},
   "outputs": [
    {
     "name": "stdout",
     "output_type": "stream",
     "text": [
      "🔍 Tuning RandomForest...\n",
      "🔹 Best Params for RandomForest: {'max_depth': 10, 'n_estimators': 100}\n",
      "🔍 Tuning GradientBoosting...\n",
      "🔹 Best Params for GradientBoosting: {'learning_rate': 0.05, 'n_estimators': 100}\n",
      "🔥 Final Model Accuracy: 41.01%\n",
      "\n",
      "📊 Classification Report:\n",
      "               precision    recall  f1-score   support\n",
      "\n",
      "           0       0.63      0.73      0.68       171\n",
      "           1       0.07      0.03      0.04        93\n",
      "           2       0.26      0.26      0.26        81\n",
      "           3       0.36      0.68      0.47        81\n",
      "           4       0.20      0.10      0.13        91\n",
      "\n",
      "    accuracy                           0.41       517\n",
      "   macro avg       0.30      0.36      0.32       517\n",
      "weighted avg       0.35      0.41      0.37       517\n",
      "\n"
     ]
    }
   ],
   "source": [
    "from sklearn.ensemble import RandomForestClassifier, GradientBoostingClassifier\n",
    "from sklearn.model_selection import GridSearchCV\n",
    "\n",
    "# Try both models and compare\n",
    "models = {\n",
    "    \"RandomForest\": RandomForestClassifier(random_state=42),\n",
    "    \"GradientBoosting\": GradientBoostingClassifier(random_state=42)\n",
    "}\n",
    "\n",
    "# Define hyperparameters for tuning\n",
    "param_grid = {\n",
    "    \"RandomForest\": {\"n_estimators\": [100, 200], \"max_depth\": [10, 20, None]},\n",
    "    \"GradientBoosting\": {\"n_estimators\": [100, 200], \"learning_rate\": [0.05, 0.1, 0.2]}\n",
    "}\n",
    "\n",
    "best_model = None\n",
    "best_accuracy = 0\n",
    "\n",
    "# Perform Grid Search to find the best model\n",
    "for model_name, model in models.items():\n",
    "    print(f\"🔍 Tuning {model_name}...\")\n",
    "    grid = GridSearchCV(model, param_grid[model_name], cv=5, scoring='accuracy')\n",
    "    grid.fit(X_train, y_train)\n",
    "\n",
    "    print(f\"🔹 Best Params for {model_name}: {grid.best_params_}\")\n",
    "    acc = grid.best_score_\n",
    "\n",
    "    if acc > best_accuracy:\n",
    "        best_accuracy = acc\n",
    "        best_model = grid.best_estimator_\n",
    "\n",
    "# Save the best model\n",
    "joblib.dump(best_model, \"student_grade_model.pkl\")\n",
    "\n",
    "# Evaluate final model on test data\n",
    "y_pred = best_model.predict(X_test)\n",
    "accuracy = accuracy_score(y_test, y_pred)\n",
    "print(f\"🔥 Final Model Accuracy: {accuracy * 100:.2f}%\")\n",
    "print(\"\\n📊 Classification Report:\\n\", classification_report(y_test, y_pred))\n"
   ]
  },
  {
   "cell_type": "code",
   "execution_count": null,
   "metadata": {},
   "outputs": [],
   "source": []
  }
 ],
 "metadata": {
  "kernelspec": {
   "display_name": "Python 3",
   "language": "python",
   "name": "python3"
  },
  "language_info": {
   "codemirror_mode": {
    "name": "ipython",
    "version": 3
   },
   "file_extension": ".py",
   "mimetype": "text/x-python",
   "name": "python",
   "nbconvert_exporter": "python",
   "pygments_lexer": "ipython3",
   "version": "3.12.5"
  }
 },
 "nbformat": 4,
 "nbformat_minor": 2
}
